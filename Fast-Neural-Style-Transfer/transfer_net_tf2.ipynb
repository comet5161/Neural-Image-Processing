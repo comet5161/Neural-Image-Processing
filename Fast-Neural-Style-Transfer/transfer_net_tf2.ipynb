{
 "cells": [
  {
   "cell_type": "code",
   "execution_count": null,
   "metadata": {},
   "outputs": [],
   "source": [
    "# coding: utf-8\n",
    "import tensorflow as tf\n",
    "from tensorflow import keras\n",
    "\n",
    "from tensorflow.keras.applications.vgg19 import VGG19\n",
    "from tensorflow.keras.preprocessing import image\n",
    "from tensorflow.keras.applications.vgg19 import preprocess_input\n",
    "from tensorflow.keras.models import Model\n",
    "import numpy as np\n",
    "import os\n",
    "\n",
    "#os.environ[\"CUDA_VISIBLE_DEVICES\"] = \"\"\n",
    "\n",
    "gpus = tf.config.experimental.list_physical_devices(device_type='GPU')\n",
    "for gpu in gpus:\n",
    "    tf.config.experimental.set_memory_growth(gpu, True)\n",
    " \n",
    "base_model = VGG19(weights='imagenet', include_top=False)\n",
    "model = Model(inputs=base_model.input, outputs=base_model.get_layer('block5_pool').output)\n",
    "img_path = 'content/0.jpg'\n",
    "img = image.load_img(img_path, target_size=(224, 224))\n",
    "x = image.img_to_array(img)\n",
    "x = np.expand_dims(x, axis=0)\n",
    "x = preprocess_input(x)\n",
    "block5_pool_features = model.predict(x)\n",
    "print(block5_pool_features.shape) #(1, 7, 7, 512)\n"
   ]
  },
  {
   "cell_type": "markdown",
   "metadata": {},
   "source": [
    "## build the transfer model"
   ]
  },
  {
   "cell_type": "code",
   "execution_count": null,
   "metadata": {},
   "outputs": [],
   "source": [
    "\n",
    "MEAN_VALUES = np.array([123.68, 116.779, 103.939]).reshape((1, 1, 1, 3)) # 通道颜色均值\n",
    "#k_initializer = tf.truncated_normal_initializer(0, 0.1)\n",
    "k_initializer = keras.initializers.TruncatedNormal(0, 0.1)\n",
    "\n",
    "def relu(X):\n",
    "    return keras.layers.Activation('relu')(X)\n",
    "\n",
    "def instance_norm(X):\n",
    "    return keras.layers.LayerNormalization()(X)\n",
    "\n",
    "def conv2d(inputs, filters, kernel_size, strides, name = \"noname\"):\n",
    "    return keras.layers.Conv2D(filters, kernel_size, strides, padding=\"same\", kernel_initializer=k_initializer, name = name)(inputs)\n",
    "\n",
    "def deconv2d(inputs, filters, kernel_size = 3, strides = 1, name=\"noname\"):\n",
    "    # shape = tf.shape(inputs)\n",
    "    # height, width = shape[1], shape[2]\n",
    "    # # 近邻插值法，\n",
    "    # X = keras.backend.resize_images(inputs, height*strides*2, width*strides*2, \"channels_last\", 'nearest')\n",
    "\n",
    "    #X = tf.image.resize(inputs, [height * strides * 2, width * strides * 2], tf.image.ResizeMethod.NEAREST_NEIGHBOR)\n",
    "    #return conv2d(X, filters, kernel_size, strides, name=name)\n",
    "    #filters, kernel_size, strides, padding=\"same\", kernel_initializer=k_initializer, name = name)(inputs)\n",
    "    return tf.keras.layers.Conv2DTranspose(filters, kernel_size, strides, name=name, padding=\"same\", dilation_rate=2, kernel_initializer=k_initializer)(inputs)\n",
    "\n",
    "    # 残差网络\n",
    "def residual(inputs, filters = 128, kernel_size = 3, name=\"noname\"):\n",
    "    X = relu(conv2d(inputs, filters, kernel_size, 1, name=name+\"_1\"))\n",
    "    X = conv2d(X, filters, kernel_size, 1, name=name+\"_2\")\n",
    "    return keras.layers.Add()([inputs, X])\n",
    "\n",
    "def transfer_model(input_shape=(256, 256, 3)):\n",
    "    img_inputs = keras.Input(input_shape, name=\"transfer_inputs\")\n",
    "    #X = tf.pad(img_inputs - MEAN_VALUES, [[0, 0], [10, 10], [10, 10], [0, 0]], mode='reflect')\n",
    "    X = keras.layers.Subtract()([img_inputs, MEAN_VALUES])\n",
    "    X = relu(instance_norm(conv2d(X, 32, 9, 1, name=\"conv1\")))\n",
    "    X = relu(instance_norm(conv2d(X, 64, 3, 2, name=\"conv2\")))\n",
    "    X = relu(instance_norm(conv2d(X, 128, 3, 2, name=\"conv3\")))\n",
    "\n",
    "    for i in range(5):\n",
    "        X = residual(X, 128, 3, name=\"res\"+str(i))\n",
    "\n",
    "    X = relu(instance_norm(deconv2d(X, 64, 3, 2, name=\"conv4\")))\n",
    "    X = relu(instance_norm(deconv2d(X, 32, 3, 2, name=\"conv5\")))\n",
    "    X = tf.nn.tanh(instance_norm(conv2d(X, 3, 9, 1, name=\"conv6\")))\n",
    "    #X = (X + 1) * (255.0/2)\n",
    "    X = keras.layers.Lambda(lambda x: (x+1)*(255.0/2), name=\"transfer_outputs\")(X)\n",
    "    #X = keras.layers.Multiply()([X+1, 255.0/2], name=\"transfer_outputs\")\n",
    "    #shape = tf.shape(X)\n",
    "    #generates = tf.slice(X, [0, 10, 10, 0], [-1, shape[1] - 20, shape[2] - 20, -1], name='generate')\n",
    "    return img_inputs, X"
   ]
  },
  {
   "cell_type": "code",
   "execution_count": null,
   "metadata": {},
   "outputs": [],
   "source": [
    "img_inputs, img_outputs = transfer_model()\n",
    "model = keras.Model(inputs=img_inputs, outputs=img_outputs, name=\"transfer\")\n",
    "model.summary()"
   ]
  },
  {
   "cell_type": "code",
   "execution_count": null,
   "metadata": {},
   "outputs": [],
   "source": [
    "keras.utils.plot_model(model , show_shapes=True)"
   ]
  },
  {
   "cell_type": "code",
   "execution_count": null,
   "metadata": {},
   "outputs": [],
   "source": []
  }
 ],
 "metadata": {
  "kernelspec": {
   "display_name": "Python 3.7.7 64-bit ('tf2-gpu': conda)",
   "language": "python",
   "name": "python37764bittf2gpucondace5cdca58a4447c2a3d83a62d4d83778"
  },
  "language_info": {
   "codemirror_mode": {
    "name": "ipython",
    "version": 3
   },
   "file_extension": ".py",
   "mimetype": "text/x-python",
   "name": "python",
   "nbconvert_exporter": "python",
   "pygments_lexer": "ipython3",
   "version": "3.7.7-final"
  }
 },
 "nbformat": 4,
 "nbformat_minor": 4
}